{
  "nbformat": 4,
  "nbformat_minor": 0,
  "metadata": {
    "colab": {
      "name": "week4.ipynb",
      "provenance": [],
      "authorship_tag": "ABX9TyNezhkkicFxQFfzI/9/n5p0",
      "include_colab_link": true
    },
    "kernelspec": {
      "name": "python3",
      "display_name": "Python 3"
    },
    "language_info": {
      "name": "python"
    }
  },
  "cells": [
    {
      "cell_type": "markdown",
      "metadata": {
        "id": "view-in-github",
        "colab_type": "text"
      },
      "source": [
        "<a href=\"https://colab.research.google.com/github/yoonsukjung/bitcoin/blob/main/week4.ipynb\" target=\"_parent\"><img src=\"https://colab.research.google.com/assets/colab-badge.svg\" alt=\"Open In Colab\"/></a>"
      ]
    },
    {
      "cell_type": "code",
      "metadata": {
        "colab": {
          "base_uri": "https://localhost:8080/"
        },
        "id": "pp9ioaiSTm77",
        "outputId": "ef5766cc-25ab-43f2-8612-e2d4a67d95ae"
      },
      "source": [
        "#1\n",
        "user_input = list(map(int, input().split()))\n",
        "type(user_input)\n",
        "\n"
      ],
      "execution_count": 5,
      "outputs": [
        {
          "output_type": "stream",
          "text": [
            "1 2 3\n"
          ],
          "name": "stdout"
        },
        {
          "output_type": "execute_result",
          "data": {
            "text/plain": [
              "list"
            ]
          },
          "metadata": {},
          "execution_count": 5
        }
      ]
    },
    {
      "cell_type": "code",
      "metadata": {
        "colab": {
          "base_uri": "https://localhost:8080/"
        },
        "id": "wS4JMASTVsy-",
        "outputId": "ecb74d1b-5f02-4d8c-cd4d-49f6f08a5d08"
      },
      "source": [
        "x = [39, 7, -51, -43, 4, 47, -94, 65, -88, -59]\n",
        "\n",
        "def get_pos(x):\n",
        "    result = []\n",
        "    for i in range(len(x)):\n",
        "      if x[i]>0 : result.append(x[i])\n",
        "    return result\n",
        "\n",
        "answer = get_pos(x)\n",
        "\n",
        "print(answer) # [39, 7, 4, 47, 65]\n",
        "\n"
      ],
      "execution_count": 8,
      "outputs": [
        {
          "output_type": "stream",
          "text": [
            "[39, 7, 4, 47, 65]\n"
          ],
          "name": "stdout"
        }
      ]
    },
    {
      "cell_type": "code",
      "metadata": {
        "colab": {
          "base_uri": "https://localhost:8080/"
        },
        "id": "7fk4bIjQVx2v",
        "outputId": "8e8ca0eb-d3ea-4e60-a867-70c15e764772"
      },
      "source": [
        "def positive(x):\n",
        "    return True if x > 0 else False\n",
        "\n",
        "answer = list(filter(positive,x))\n",
        "\n",
        "print(answer) # [39, 7, 4, 47, 65]\n"
      ],
      "execution_count": 12,
      "outputs": [
        {
          "output_type": "stream",
          "text": [
            "[39, 7, 4, 47, 65]\n"
          ],
          "name": "stdout"
        }
      ]
    },
    {
      "cell_type": "code",
      "metadata": {
        "colab": {
          "base_uri": "https://localhost:8080/"
        },
        "id": "-YOlGIA-Whaf",
        "outputId": "f08166f1-175b-44cb-b81d-60dd3362ad32"
      },
      "source": [
        "answer = list(filter(lambda x : x>0, x))\n",
        "\n",
        "print(answer)"
      ],
      "execution_count": 13,
      "outputs": [
        {
          "output_type": "stream",
          "text": [
            "[39, 7, 4, 47, 65]\n"
          ],
          "name": "stdout"
        }
      ]
    },
    {
      "cell_type": "code",
      "metadata": {
        "colab": {
          "base_uri": "https://localhost:8080/"
        },
        "id": "vB0-LIxZWzH9",
        "outputId": "1c8339bd-1143-4545-9743-a928cc3a59ff"
      },
      "source": [
        "from functools import reduce\n",
        "\n",
        "reduce(lambda x, y: x+y, [1, 2, 3, 4, 5]) # ((((1+2)+3)+4)+5)"
      ],
      "execution_count": 14,
      "outputs": [
        {
          "output_type": "execute_result",
          "data": {
            "text/plain": [
              "15"
            ]
          },
          "metadata": {},
          "execution_count": 14
        }
      ]
    },
    {
      "cell_type": "code",
      "metadata": {
        "colab": {
          "base_uri": "https://localhost:8080/"
        },
        "id": "vEhwOG8rW5UO",
        "outputId": "5e3e3fb7-d9ea-4d3a-e874-e265ab89e043"
      },
      "source": [
        "x = [39, 7, -51, -43, 4, 47, -94, 65, -88, -59]\n",
        "\n",
        "def maximum(x):\n",
        "    default = x[0]\n",
        "    for i in range(len(x)):\n",
        "      if x[i] > default: default = x[i]\n",
        "    return default\n",
        "\n",
        "answer = maximum(x)\n",
        "\n",
        "print(answer)  # 65"
      ],
      "execution_count": 15,
      "outputs": [
        {
          "output_type": "stream",
          "text": [
            "65\n"
          ],
          "name": "stdout"
        }
      ]
    },
    {
      "cell_type": "code",
      "metadata": {
        "colab": {
          "base_uri": "https://localhost:8080/"
        },
        "id": "_GlRSuXxXRtm",
        "outputId": "69394943-1cec-4b00-9175-864a5f48deb4"
      },
      "source": [
        "answer = reduce(lambda x,y:x if (x>y) else y, x)\n",
        "\n",
        "print(answer)"
      ],
      "execution_count": 16,
      "outputs": [
        {
          "output_type": "stream",
          "text": [
            "65\n"
          ],
          "name": "stdout"
        }
      ]
    },
    {
      "cell_type": "code",
      "metadata": {
        "colab": {
          "base_uri": "https://localhost:8080/"
        },
        "id": "piaaB9nqYrrV",
        "outputId": "696c1f85-dd58-40c6-f6ff-f35a9880a10e"
      },
      "source": [
        "for n in range(10):\n",
        "  print(\"{0}의 거듭제곱: {1}\".format(n,n**2))"
      ],
      "execution_count": 19,
      "outputs": [
        {
          "output_type": "stream",
          "text": [
            "0의 거듭제곱: 0\n",
            "1의 거듭제곱: 1\n",
            "2의 거듭제곱: 4\n",
            "3의 거듭제곱: 9\n",
            "4의 거듭제곱: 16\n",
            "5의 거듭제곱: 25\n",
            "6의 거듭제곱: 36\n",
            "7의 거듭제곱: 49\n",
            "8의 거듭제곱: 64\n",
            "9의 거듭제곱: 81\n"
          ],
          "name": "stdout"
        }
      ]
    },
    {
      "cell_type": "code",
      "metadata": {
        "colab": {
          "base_uri": "https://localhost:8080/"
        },
        "id": "G_BO4TsJbgds",
        "outputId": "be7dbec1-2f0e-4823-b29d-8015350f0aa4"
      },
      "source": [
        "print('1'*5)\n",
        "print([1]*10)\n",
        "print((0,)*20)"
      ],
      "execution_count": 22,
      "outputs": [
        {
          "output_type": "stream",
          "text": [
            "11111\n",
            "[1, 1, 1, 1, 1, 1, 1, 1, 1, 1]\n",
            "(0, 0, 0, 0, 0, 0, 0, 0, 0, 0, 0, 0, 0, 0, 0, 0, 0, 0, 0, 0)\n"
          ],
          "name": "stdout"
        }
      ]
    },
    {
      "cell_type": "code",
      "metadata": {
        "colab": {
          "base_uri": "https://localhost:8080/"
        },
        "id": "XRHgyi6ZbikA",
        "outputId": "61a5ba27-270d-4983-c220-169627c73eb7"
      },
      "source": [
        "\n",
        "# positional arguments만 받을 때\n",
        "def save_ranking(*args):\n",
        "    print(args)\n",
        "\n",
        "save_ranking('ming', 'alice', 'tom', 'wilson', 'roy')\n",
        "# 예상 출력: ('ming', 'alice', 'tom', 'wilson', 'roy')\n",
        "\n"
      ],
      "execution_count": 23,
      "outputs": [
        {
          "output_type": "stream",
          "text": [
            "('ming', 'alice', 'tom', 'wilson', 'roy')\n"
          ],
          "name": "stdout"
        }
      ]
    },
    {
      "cell_type": "code",
      "metadata": {
        "colab": {
          "base_uri": "https://localhost:8080/"
        },
        "id": "Hjws5xZHcxzU",
        "outputId": "6a2d9f94-a5de-4403-ac23-b594f846360c"
      },
      "source": [
        "def save_ranking2(**kwargs):\n",
        "    print(kwargs)\n",
        "\n",
        "save_ranking2(first='ming', second='alice', fourth='wilson', third='tom', fifth='roy')\n",
        "# 예상출력: {'first': 'ming', 'second': 'alice', 'fourth': 'wilson', 'third': 'tom', 'fifth': 'roy'}"
      ],
      "execution_count": 25,
      "outputs": [
        {
          "output_type": "stream",
          "text": [
            "{'first': 'ming', 'second': 'alice', 'fourth': 'wilson', 'third': 'tom', 'fifth': 'roy'}\n"
          ],
          "name": "stdout"
        }
      ]
    },
    {
      "cell_type": "code",
      "metadata": {
        "colab": {
          "base_uri": "https://localhost:8080/"
        },
        "id": "dwuYrp0sdR2B",
        "outputId": "5663c72a-e5c4-45c3-8ff3-674cf987edf4"
      },
      "source": [
        "# positional arguments와 keyword arguments를 모두 받을 때\n",
        "def save_ranking3(*args,**kwargs):\n",
        "    print(args,kwargs)\n",
        "\n",
        "save_ranking3('ming', 'alice', 'tom', fourth='wilson', fifth='roy')\n",
        "# 예상 출력: ('ming', 'alice', 'tom')\n",
        "#            {'fourth': 'wilson', 'fifth': 'roy'}"
      ],
      "execution_count": 26,
      "outputs": [
        {
          "output_type": "stream",
          "text": [
            "('ming', 'alice', 'tom') {'fourth': 'wilson', 'fifth': 'roy'}\n"
          ],
          "name": "stdout"
        }
      ]
    },
    {
      "cell_type": "code",
      "metadata": {
        "colab": {
          "base_uri": "https://localhost:8080/"
        },
        "id": "PcLBQ5uBeLax",
        "outputId": "9ddde1b7-b324-40ea-bf5d-dc9312a15754"
      },
      "source": [
        "# unpacking의 좌변은 리스트 또는 튜플의 형태를 가져야하므로 단일 unpacking의 경우 *a가 아닌 *a,를 사용\n",
        "numbers = [1, 2, 3, 4, 5, 6]\n",
        "\n",
        "*a, = numbers\n",
        "print(a) # [1, 2, 3, 4, 5, 6]\n",
        "\n",
        "*a,b = numbers\n",
        "print(a) # [1, 2, 3, 4, 5]\n",
        "print(b) # 6\n",
        "\n",
        "a,*b, = numbers\n",
        "print(a) # 1\n",
        "print(b) # [2, 3, 4, 5, 6]\n",
        "\n",
        "a,*b,c = numbers\n",
        "print(a) # 1\n",
        "print(b) # [2, 3, 4, 5]\n",
        "print(c) # 6"
      ],
      "execution_count": 27,
      "outputs": [
        {
          "output_type": "stream",
          "text": [
            "[1, 2, 3, 4, 5, 6]\n",
            "[1, 2, 3, 4, 5]\n",
            "6\n",
            "1\n",
            "[2, 3, 4, 5, 6]\n",
            "1\n",
            "[2, 3, 4, 5]\n",
            "6\n"
          ],
          "name": "stdout"
        }
      ]
    },
    {
      "cell_type": "code",
      "metadata": {
        "colab": {
          "base_uri": "https://localhost:8080/"
        },
        "id": "KQLZ8kmvfmZj",
        "outputId": "a5181afe-14cf-4650-faf6-f56b5bc71d8a"
      },
      "source": [
        "primes = [2, 3, 5, 7, 11,13]\n",
        "\n",
        "def product(*args):\n",
        "    p = reduce(lambda a,b:a*b,args)\n",
        "    return p\n",
        "\n",
        "product(*primes) # 30030"
      ],
      "execution_count": 30,
      "outputs": [
        {
          "output_type": "execute_result",
          "data": {
            "text/plain": [
              "30030"
            ]
          },
          "metadata": {},
          "execution_count": 30
        }
      ]
    },
    {
      "cell_type": "code",
      "metadata": {
        "colab": {
          "base_uri": "https://localhost:8080/",
          "height": 500
        },
        "id": "UqRfOzRrgdNN",
        "outputId": "4a27de7f-2006-4c91-a729-285124cdf0c9"
      },
      "source": [
        "# 기본 세팅\n",
        "import pandas as pd\n",
        "import numpy as np\n",
        "import matplotlib\n",
        "import matplotlib.pyplot as plt\n",
        "%matplotlib inline\n",
        "matplotlib.style.use('ggplot')\n",
        "\n",
        "# 보스턴 집값 데이터 불러오기\n",
        "from sklearn import datasets\n",
        "boston_house_price = datasets.load_boston()\n",
        "\n",
        "# 보스턴 집값 데이터 확인\n",
        "# print(boston_house_price.data.shape)\n",
        "\n",
        "# 데이터 프레임에 보스턴 집값 데이터 넣어보세요!\n",
        "data_frame = pd.DataFrame(boston_house_price.data,columns=boston_house_price.feature_names)\n",
        "\n",
        "data_frame['Price'] = boston_house_price.target\n",
        "# data_frame.head()\n",
        "\n",
        "# 데이터를 시각화하여 확인\n",
        "# data_frame.plot(kind='scatter', x='RM', y=\"Price\", figsize=(7,7), color='coral')\n",
        "\n",
        "\n",
        "# # 경향성이 없는 지저분한 데이터들 삭제\n",
        "# data_frame.plot(kind='scatter', x=\"RM\", y=\"Price\", figsize=(7,7), color='coral', \n",
        "#                 xlim=(4,8), ylim=(10,45))\n",
        "\n",
        "# 선형회귀 식 구하기\n",
        "from sklearn.linear_model import LinearRegression\n",
        "linear_regression = LinearRegression()\n",
        "linear_regression.fit(X=pd.DataFrame(data_frame['RM']), y=data_frame[\"Price\"])\n",
        "prediction = linear_regression.predict(X=pd.DataFrame(data_frame['RM']))\n",
        "print('alpha = ', linear_regression.intercept_) \n",
        "print('beta = ', linear_regression.coef_)\n",
        "\n",
        "# 결과 확인\n",
        "data_frame.plot(kind='scatter', x=\"RM\", y=\"Price\", figsize=(7,7), color='coral', \n",
        "                xlim=(4,8), ylim=(10,45))\n",
        "plt.plot(data_frame['RM'],linear_regression.intercept_+linear_regression.coef_*data_frame['RM'], color = 'skyblue')\n",
        "\n"
      ],
      "execution_count": 30,
      "outputs": [
        {
          "output_type": "stream",
          "text": [
            "alpha =  -34.67062077643857\n",
            "beta =  [9.10210898]\n"
          ],
          "name": "stdout"
        },
        {
          "output_type": "execute_result",
          "data": {
            "text/plain": [
              "[<matplotlib.lines.Line2D at 0x7f64c2b80a90>]"
            ]
          },
          "metadata": {},
          "execution_count": 30
        },
        {
          "output_type": "display_data",
          "data": {
            "image/png": "[encoded data removed]",
            "text/plain": [
              "<Figure size 504x504 with 1 Axes>"
            ]
          },
          "metadata": {}
        }
      ]
    },
    {
      "cell_type": "code",
      "metadata": {
        "colab": {
          "base_uri": "https://localhost:8080/",
          "height": 235
        },
        "id": "BFE408uBo9rh",
        "outputId": "791b8458-7023-4199-8db3-d0485dea4900"
      },
      "source": [
        "\n",
        "import pandas as pd\n",
        "import numpy as np\n",
        "import matplotlib.pyplot as plt\n",
        "%matplotlib inline\n",
        "\n",
        "price = pd.read_pickle('005930.pkl')\n",
        "\n",
        "open = price.open\n",
        "high = price.high\n",
        "low = price.low\n",
        "close = price.close\n",
        "volume = price.volume\n",
        "price.head()\n",
        "def OBV(close, volume):\n",
        "    \n",
        "    # obv가 저장될 pandas series를 생성\n",
        "    obv = pd.Series(index=close.index)\n",
        "    obv.iloc[0] = volume.iloc[0]\n",
        "    \n",
        "    # OBV 산출공식을 구현\n",
        "    # pd.Series 구조를 연산에 직접 사용\n",
        "    for i in range(1,len(close)):\n",
        "        if (1)\n",
        "            \n",
        "        elif (2)\n",
        "            \n",
        "        else: (3)\n",
        "           \n",
        "            \n",
        "    return obv\n",
        "\n",
        "obv = OBV(close, volume)\n",
        "obv.plot(figsize=(12,2));\n"
      ],
      "execution_count": 35,
      "outputs": [
        {
          "output_type": "execute_result",
          "data": {
            "text/html": [
              "<div>\n",
              "<style scoped>\n",
              "    .dataframe tbody tr th:only-of-type {\n",
              "        vertical-align: middle;\n",
              "    }\n",
              "\n",
              "    .dataframe tbody tr th {\n",
              "        vertical-align: top;\n",
              "    }\n",
              "\n",
              "    .dataframe thead th {\n",
              "        text-align: right;\n",
              "    }\n",
              "</style>\n",
              "<table border=\"1\" class=\"dataframe\">\n",
              "  <thead>\n",
              "    <tr style=\"text-align: right;\">\n",
              "      <th></th>\n",
              "      <th>close</th>\n",
              "      <th>high</th>\n",
              "      <th>low</th>\n",
              "      <th>open</th>\n",
              "      <th>volume</th>\n",
              "    </tr>\n",
              "    <tr>\n",
              "      <th>dt</th>\n",
              "      <th></th>\n",
              "      <th></th>\n",
              "      <th></th>\n",
              "      <th></th>\n",
              "      <th></th>\n",
              "    </tr>\n",
              "  </thead>\n",
              "  <tbody>\n",
              "    <tr>\n",
              "      <th>2000-01-04</th>\n",
              "      <td>6110.0</td>\n",
              "      <td>6110.0</td>\n",
              "      <td>5660.0</td>\n",
              "      <td>6000.0</td>\n",
              "      <td>74198352.0</td>\n",
              "    </tr>\n",
              "    <tr>\n",
              "      <th>2000-01-05</th>\n",
              "      <td>5580.0</td>\n",
              "      <td>6060.0</td>\n",
              "      <td>5520.0</td>\n",
              "      <td>5800.0</td>\n",
              "      <td>74680200.0</td>\n",
              "    </tr>\n",
              "    <tr>\n",
              "      <th>2000-01-06</th>\n",
              "      <td>5620.0</td>\n",
              "      <td>5780.0</td>\n",
              "      <td>5580.0</td>\n",
              "      <td>5750.0</td>\n",
              "      <td>54390500.0</td>\n",
              "    </tr>\n",
              "    <tr>\n",
              "      <th>2000-01-07</th>\n",
              "      <td>5540.0</td>\n",
              "      <td>5670.0</td>\n",
              "      <td>5360.0</td>\n",
              "      <td>5560.0</td>\n",
              "      <td>40309752.0</td>\n",
              "    </tr>\n",
              "    <tr>\n",
              "      <th>2000-01-10</th>\n",
              "      <td>5770.0</td>\n",
              "      <td>5770.0</td>\n",
              "      <td>5580.0</td>\n",
              "      <td>5600.0</td>\n",
              "      <td>46880752.0</td>\n",
              "    </tr>\n",
              "  </tbody>\n",
              "</table>\n",
              "</div>"
            ],
            "text/plain": [
              "             close    high     low    open      volume\n",
              "dt                                                    \n",
              "2000-01-04  6110.0  6110.0  5660.0  6000.0  74198352.0\n",
              "2000-01-05  5580.0  6060.0  5520.0  5800.0  74680200.0\n",
              "2000-01-06  5620.0  5780.0  5580.0  5750.0  54390500.0\n",
              "2000-01-07  5540.0  5670.0  5360.0  5560.0  40309752.0\n",
              "2000-01-10  5770.0  5770.0  5580.0  5600.0  46880752.0"
            ]
          },
          "metadata": {},
          "execution_count": 35
        }
      ]
    }
  ]
}